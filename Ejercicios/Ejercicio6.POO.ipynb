{
 "cells": [
  {
   "cell_type": "markdown",
   "metadata": {},
   "source": [
    "# Ejercicio 6. Programacion Orientada Objetos"
   ]
  },
  {
   "cell_type": "markdown",
   "metadata": {},
   "source": [
    "1. ### **Crear la clase Alumno**  \n",
    "    -nombre  \n",
    "    -apellidos  \n",
    "    -dni  \n",
    "    -notas: diccionario <K:asignatura, V:nota>  \n",
    "    estudiar() --> el alumno nombre esta estudiando asignatura obtenida de manera aleatoria del diccionario \n",
    "    \n",
    "2. ### **Funcionalidad** \n",
    "    \n",
    "   3 alumnos --> lista -->  \n",
    "       - Nota media de cada alumno --> El alumno nombre tiene una nota media de ...  \n",
    "       - Nota media de todos los alumnos --> La nota media de todos los alumnos es ...\n",
    "   \n",
    "3. Tradicional y usando funciones lambda\n"
   ]
  },
  {
   "cell_type": "code",
   "execution_count": 45,
   "metadata": {},
   "outputs": [],
   "source": [
    "import random\n",
    "\n",
    "class Alumno():\n",
    "    \n",
    "    notas = {}\n",
    "    \n",
    "    def __init__(self, nombre, apellidos, dni, notas={}):\n",
    "        self.nombre = nombre\n",
    "        self.apellidos = apellidos\n",
    "        self.dni = dni\n",
    "        self.notas = notas\n",
    "        \n",
    "    def estudiar(self):\n",
    "        num_asignatura = random.randint(1, len(self.notas))\n",
    "        if num_asignatura == 1:\n",
    "            asignatura = \"Matematicas\"\n",
    "        elif num_asignatura == 2:\n",
    "            asignatura = \"Literatura\"\n",
    "        elif num_asignatura == 3:\n",
    "            asignatura = \"Ingles\"\n",
    "        else:\n",
    "            asignatura = \"Asignatura X\"\n",
    "        print(f\"El alumno {self.nombre} {self.apellidos}, esta estudiando: {asignatura}.\")"
   ]
  },
  {
   "cell_type": "code",
   "execution_count": 46,
   "metadata": {},
   "outputs": [],
   "source": [
    "alumno1 = Alumno(\"Jose\", \"Garcia\", \"1234A\", {\"Matematicas\": 5, \"Literatura\": 7, \"Ingles\": 3})\n",
    "alumno2 = Alumno(\"Ana\", \"Sanchez\", \"5678B\", {\"Matematicas\": 9, \"Literatura\": 8, \"Ingles\": 7})\n",
    "alumno3 = Alumno(\"Miguel\", \"Fernandez\", \"1357C\", {\"Matematicas\": 2, \"Literatura\": 6, \"Ingles\": 5})"
   ]
  },
  {
   "cell_type": "code",
   "execution_count": 47,
   "metadata": {},
   "outputs": [
    {
     "name": "stdout",
     "output_type": "stream",
     "text": [
      "El alumno Jose Garcia, esta estudiando: Matematicas.\n",
      "El alumno Ana Sanchez, esta estudiando: Literatura.\n",
      "El alumno Miguel Fernandez, esta estudiando: Literatura.\n"
     ]
    }
   ],
   "source": [
    "alumno1.estudiar()\n",
    "alumno2.estudiar()\n",
    "alumno3.estudiar()"
   ]
  },
  {
   "cell_type": "code",
   "execution_count": 54,
   "metadata": {},
   "outputs": [],
   "source": [
    "def mediaAlumno(Alumno):\n",
    "    suma_notas = 0\n",
    "    for nota in Alumno.notas.values():\n",
    "        suma_notas += nota\n",
    "    media_alumno = suma_notas / len(Alumno.notas.values())\n",
    "    return media_alumno\n",
    "\n",
    "def mediaAlumnos(alumnos):\n",
    "    suma_notas = 0\n",
    "    for Alumno in  alumnos:\n",
    "        suma_notas += mediaAlumno(Alumno)\n",
    "    media_alumnos = suma_notas / len(alumnos)\n",
    "    return media_alumnos"
   ]
  },
  {
   "cell_type": "code",
   "execution_count": 80,
   "metadata": {},
   "outputs": [
    {
     "name": "stdout",
     "output_type": "stream",
     "text": [
      "La nota media de: Jose Garcia es de: 5.0.\n",
      "La nota media de: Ana Sanchez es de: 8.0.\n",
      "La nota media de: Miguel Fernandez es de: 4.33.\n"
     ]
    }
   ],
   "source": [
    "print(f\"La nota media de: {alumno1.nombre} {alumno1.apellidos} es de: {round(mediaAlumno(alumno1), 2)}.\")\n",
    "print(f\"La nota media de: {alumno2.nombre} {alumno2.apellidos} es de: {round(mediaAlumno(alumno2), 2)}.\")\n",
    "print(f\"La nota media de: {alumno3.nombre} {alumno3.apellidos} es de: {round(mediaAlumno(alumno3), 2)}.\")"
   ]
  },
  {
   "cell_type": "code",
   "execution_count": 82,
   "metadata": {},
   "outputs": [
    {
     "name": "stdout",
     "output_type": "stream",
     "text": [
      "La nota media de todos los alumnos es de: 5.78\n"
     ]
    }
   ],
   "source": [
    "alumnos = [alumno1, alumno2, alumno3]\n",
    "print(f\"La nota media de todos los alumnos es de: {round(mediaAlumnos(alumnos), 2)}\")"
   ]
  },
  {
   "cell_type": "code",
   "execution_count": 83,
   "metadata": {},
   "outputs": [
    {
     "name": "stdout",
     "output_type": "stream",
     "text": [
      "La media del alumno1 es: 5.0\n",
      "La media del alumno1 es: 8.0\n",
      "La media del alumno1 es: 4.33\n"
     ]
    }
   ],
   "source": [
    "from functools import reduce\n",
    "\n",
    "mediaAlumno1 = reduce((lambda x, y: x + y ), alumno1.notas.values()) / len(alumno1.notas.values())\n",
    "mediaAlumno2 = reduce((lambda x, y: x + y ), alumno2.notas.values()) / len(alumno2.notas.values())\n",
    "mediaAlumno3 = reduce((lambda x, y: x + y ), alumno3.notas.values()) / len(alumno3.notas.values())\n",
    "    \n",
    "print(f\"La media del alumno1 es: {round(mediaAlumno1, 2)}\")\n",
    "print(f\"La media del alumno1 es: {round(mediaAlumno2, 2)}\")\n",
    "print(f\"La media del alumno1 es: {round(mediaAlumno3, 2)}\")\n"
   ]
  },
  {
   "cell_type": "code",
   "execution_count": 84,
   "metadata": {},
   "outputs": [
    {
     "name": "stdout",
     "output_type": "stream",
     "text": [
      "La nota media de todos los alumnos es de: 5.78\n"
     ]
    }
   ],
   "source": [
    "medias = [reduce((lambda x, y: x + y ), alumno1.notas.values()) / len(alumno1.notas.values()), reduce((lambda x, y: x + y ), alumno2.notas.values()) / len(alumno2.notas.values()), reduce((lambda x, y: x + y ), alumno3.notas.values()) / len(alumno3.notas.values())]\n",
    "media_total = reduce((lambda x, y: x + y), medias) / len(medias)\n",
    "print(f\"La nota media de todos los alumnos es de: {round(media_total, 2)}\")\n"
   ]
  },
  {
   "cell_type": "code",
   "execution_count": null,
   "metadata": {},
   "outputs": [],
   "source": []
  }
 ],
 "metadata": {
  "kernelspec": {
   "display_name": "Python 3 (ipykernel)",
   "language": "python",
   "name": "python3"
  },
  "language_info": {
   "codemirror_mode": {
    "name": "ipython",
    "version": 3
   },
   "file_extension": ".py",
   "mimetype": "text/x-python",
   "name": "python",
   "nbconvert_exporter": "python",
   "pygments_lexer": "ipython3",
   "version": "3.9.13"
  }
 },
 "nbformat": 4,
 "nbformat_minor": 4
}
