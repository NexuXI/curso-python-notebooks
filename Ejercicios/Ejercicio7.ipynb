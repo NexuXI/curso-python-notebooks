{
 "cells": [
  {
   "cell_type": "markdown",
   "metadata": {},
   "source": [
    "### Ejercicio 7. Composicion. Supermercado"
   ]
  },
  {
   "cell_type": "markdown",
   "metadata": {},
   "source": [
    "-Television  \n",
    "+id  \n",
    "+marca  \n",
    "+pulgadas  \n",
    "+precio\n",
    "\n",
    "-Ordenador  \n",
    "+id  \n",
    "+marca  \n",
    "+capacidad_disco_duro  \n",
    "+ram  \n",
    "+precio  \n",
    "\n",
    "-Monitor  \n",
    "+id  \n",
    "+marca  \n",
    "+pulgadas  \n",
    "+precio\n",
    "\n",
    "-Cliente  \n",
    "+nombre\n",
    "+tipo (VIP o no)\n",
    "+carrito_compra: listado[productos]\n",
    "+pagar()\n",
    "\n",
    "-Cajera  \n",
    "+numero_empleado  \n",
    "+nombre  \n",
    "+atender_cliente()  \n",
    "\n",
    "-Tienda  \n",
    "3 clientes\n",
    "2 cajeras  \n",
    "\n",
    "Cada cliente va llenar la cesta con uno o varios productos  \n",
    "\n",
    "cajeras van a ir atendiendo a los clientes  \n",
    "\n",
    "\n",
    "Si cliente es VIP, 15% en la compra"
   ]
  },
  {
   "cell_type": "code",
   "execution_count": 52,
   "metadata": {},
   "outputs": [],
   "source": [
    "## Clase Television\n",
    "class Television():\n",
    "    \n",
    "    def __init__(self, id, marca, pulgadas, precio):\n",
    "        self.id = id\n",
    "        self.marca = marca\n",
    "        self.pulgadas = pulgadas\n",
    "        self.precio = precio\n",
    "    \n",
    "## Clase Ordenador\n",
    "class Ordenador():\n",
    "    \n",
    "    def __init__(self, id, marca, capacidad_disco_duro, ram, precio):\n",
    "        self.id = id\n",
    "        self.marca = marca\n",
    "        self.capacidad_disco_duro = capacidad_disco_duro\n",
    "        self.ram = ram\n",
    "        self.precio = precio\n",
    "        \n",
    "## Clases Monitor\n",
    "class Monitor():\n",
    "    \n",
    "    def __init__(self, id, marca, pulgadas, precio):\n",
    "        self.id = id\n",
    "        self.marca = marca\n",
    "        self.pulgadas = pulgadas\n",
    "        self.precio = precio\n",
    "        \n",
    "## Clase Cliente\n",
    "class Cliente():\n",
    "    \n",
    "    def __init__(self, nombre, tipo, carrito_compra=[]):\n",
    "        self.nombre = nombre\n",
    "        self.tipo = tipo\n",
    "        self.carrito_compra = carrito_compra\n",
    "    \n",
    "    def pagar(self, precio):\n",
    "        mensaje = \"Pagada cantidad de: \", precio, \"$.\"\n",
    "        return mensaje\n",
    "    \n",
    "    def addCarrito(self, objeto):\n",
    "        self.carrito_compra = self.carrito_compra.append(objeto)\n",
    "\n",
    "## Clase Cajera\n",
    "class Cajera():\n",
    "    \n",
    "    def __init__(self, numero_empleado, nombre):\n",
    "        self.numero_empleado = numero_empleado\n",
    "        self.nombre = nombre\n",
    "        \n",
    "    def atender_cliente(self, cliente):\n",
    "        precio_a_pagar = 0\n",
    "        for objeto in cliente.carrito_compra:\n",
    "            precio_a_pagar += objeto.precio\n",
    "        if cliente.tipo == \"VIP\":\n",
    "            print(\"El cliente es VIP\")\n",
    "            precio_a_pagar = precio_a_pagar - (precio_a_pagar * 0.15)\n",
    "        else:\n",
    "            print(\"El cliente NO es VIP\")\n",
    "        return precio_a_pagar\n",
    "\n",
    "## Clase Supermercado\n",
    "class Supermercado():\n",
    "    \n",
    "    def __init__(self, cajeras=[], clientes=[]):\n",
    "        self.clientes = clientes\n",
    "        self.cajeras = cajeras\n",
    "        \n",
    "    def addCliente(self, cliente):\n",
    "        self.clientes = self.clientes.append(cliente)\n",
    "        \n",
    "    def addCajera(self, cajera):\n",
    "        self.cajeras = self.cajeras.append(cajera)\n",
    "        \n",
    "    def realizarOperaciones(self):\n",
    "        num_cajeras = len(self.cajeras)\n",
    "        num_clientes = len(self.clientes)\n",
    "        while len(self.clientes) != 0:\n",
    "            for numero_cajera in range(num_cajeras):\n",
    "                for index, cliente in enumerate(self.clientes):\n",
    "                    print(f'La cajera: {self.cajeras[numero_cajera].numero_empleado} ( {self.cajeras[numero_cajera].nombre} ) está atendiendo a: {cliente.nombre}.')\n",
    "                    precio = self.cajeras[numero_cajera].atender_cliente(cliente)\n",
    "                    print(f'El precio a pagar es de: {precio}$.')\n",
    "                    cliente.pagar(precio)\n",
    "                    self.clientes.pop(index)\n",
    "                    print(\"El cliente se ha ido.\")\n",
    "                    print(\"-------------------------------------------------\")\n",
    "                    break\n",
    "        print(\"Todas las operaciones han sido realizadas.\")"
   ]
  },
  {
   "cell_type": "code",
   "execution_count": 53,
   "metadata": {},
   "outputs": [],
   "source": [
    "## Creacion de los objetos de la tienda\n",
    "TV1 = Television(1, \"LG\", 32, 200)\n",
    "PC1 = Ordenador(1, \"HP\", \"1TB\", 16, 800)\n",
    "Monitor1 = Monitor(1, \"Samsung\", 24, 100)\n",
    "\n",
    "TV2 = Television(2, \"Xiaomi\", 56, 800)\n",
    "PC2 = Ordenador(2, \"Dell\", \"256Gb\", 8, 300)\n",
    "Monitor2 = Monitor(2, \"Philips\", 27, 300)\n",
    "\n",
    "TV3 = Television(3, \"Sony\", 48, 500)\n",
    "PC3 = Ordenador(3, \"Omen\", \"2TB\", 32, 1600)\n",
    "Monitor3 = Monitor(3, \"AOC\", 22, 500)"
   ]
  },
  {
   "cell_type": "code",
   "execution_count": 54,
   "metadata": {},
   "outputs": [],
   "source": [
    "## Creacion de las cajeras\n",
    "Cajera1 = Cajera(1, \"Pablo\")\n",
    "Cajera2 = Cajera(2, \"Ana\")"
   ]
  },
  {
   "cell_type": "code",
   "execution_count": 55,
   "metadata": {},
   "outputs": [],
   "source": [
    "## Creacion de las cestas de la compra\n",
    "Cesta1 = [TV1, PC3, Monitor3]\n",
    "Cesta2 = [TV2, PC2, PC1]\n",
    "Cesta3 = [TV3, Monitor1, Monitor2]"
   ]
  },
  {
   "cell_type": "code",
   "execution_count": 56,
   "metadata": {},
   "outputs": [],
   "source": [
    "## Creacion de los clientes\n",
    "Cliente1 = Cliente(\"Jose\", \"VIP\", Cesta2)\n",
    "Cliente2 = Cliente(\"Maria\", \"VIP\", Cesta1)\n",
    "Cliente3 = Cliente(\"Andres\", \"NO VIP\", Cesta3)"
   ]
  },
  {
   "cell_type": "code",
   "execution_count": 57,
   "metadata": {},
   "outputs": [],
   "source": [
    "## Creacion de las listas de cajeras y de clientes\n",
    "cajeras = [Cajera1, Cajera2]\n",
    "clientes = [Cliente1, Cliente2, Cliente3]"
   ]
  },
  {
   "cell_type": "code",
   "execution_count": 58,
   "metadata": {},
   "outputs": [],
   "source": [
    "## Creacion del supermercado\n",
    "supermercado = Supermercado(cajeras, clientes)"
   ]
  },
  {
   "cell_type": "code",
   "execution_count": 59,
   "metadata": {},
   "outputs": [
    {
     "name": "stdout",
     "output_type": "stream",
     "text": [
      "La cajera: 1 ( Pablo ) está atendiendo a: Jose.\n",
      "El cliente es VIP\n",
      "El precio a pagar es de: 1615.0$.\n"
     ]
    },
    {
     "ename": "TypeError",
     "evalue": "'Cliente' object cannot be interpreted as an integer",
     "output_type": "error",
     "traceback": [
      "\u001b[1;31m---------------------------------------------------------------------------\u001b[0m",
      "\u001b[1;31mTypeError\u001b[0m                                 Traceback (most recent call last)",
      "\u001b[1;32m~\\AppData\\Local\\Temp\\ipykernel_4084\\3547154190.py\u001b[0m in \u001b[0;36m<module>\u001b[1;34m\u001b[0m\n\u001b[1;32m----> 1\u001b[1;33m \u001b[0msupermercado\u001b[0m\u001b[1;33m.\u001b[0m\u001b[0mrealizarOperaciones\u001b[0m\u001b[1;33m(\u001b[0m\u001b[1;33m)\u001b[0m\u001b[1;33m\u001b[0m\u001b[1;33m\u001b[0m\u001b[0m\n\u001b[0m",
      "\u001b[1;32m~\\AppData\\Local\\Temp\\ipykernel_4084\\1916503457.py\u001b[0m in \u001b[0;36mrealizarOperaciones\u001b[1;34m(self)\u001b[0m\n\u001b[0;32m     83\u001b[0m                     \u001b[0mprint\u001b[0m\u001b[1;33m(\u001b[0m\u001b[1;34mf'El precio a pagar es de: {precio}$.'\u001b[0m\u001b[1;33m)\u001b[0m\u001b[1;33m\u001b[0m\u001b[1;33m\u001b[0m\u001b[0m\n\u001b[0;32m     84\u001b[0m                     \u001b[0mcliente\u001b[0m\u001b[1;33m.\u001b[0m\u001b[0mpagar\u001b[0m\u001b[1;33m(\u001b[0m\u001b[0mprecio\u001b[0m\u001b[1;33m)\u001b[0m\u001b[1;33m\u001b[0m\u001b[1;33m\u001b[0m\u001b[0m\n\u001b[1;32m---> 85\u001b[1;33m                     \u001b[0mself\u001b[0m\u001b[1;33m.\u001b[0m\u001b[0mclientes\u001b[0m\u001b[1;33m.\u001b[0m\u001b[0mpop\u001b[0m\u001b[1;33m(\u001b[0m\u001b[0mcliente\u001b[0m\u001b[1;33m)\u001b[0m\u001b[1;33m\u001b[0m\u001b[1;33m\u001b[0m\u001b[0m\n\u001b[0m\u001b[0;32m     86\u001b[0m                     \u001b[0mprint\u001b[0m\u001b[1;33m(\u001b[0m\u001b[1;34m\"El cliente se ha ido.\"\u001b[0m\u001b[1;33m)\u001b[0m\u001b[1;33m\u001b[0m\u001b[1;33m\u001b[0m\u001b[0m\n\u001b[0;32m     87\u001b[0m                     \u001b[0mprint\u001b[0m\u001b[1;33m(\u001b[0m\u001b[1;34m\"-------------------------------------------------\"\u001b[0m\u001b[1;33m)\u001b[0m\u001b[1;33m\u001b[0m\u001b[1;33m\u001b[0m\u001b[0m\n",
      "\u001b[1;31mTypeError\u001b[0m: 'Cliente' object cannot be interpreted as an integer"
     ]
    }
   ],
   "source": [
    "supermercado.realizarOperaciones()"
   ]
  },
  {
   "cell_type": "code",
   "execution_count": null,
   "metadata": {},
   "outputs": [],
   "source": []
  }
 ],
 "metadata": {
  "kernelspec": {
   "display_name": "Python 3 (ipykernel)",
   "language": "python",
   "name": "python3"
  },
  "language_info": {
   "codemirror_mode": {
    "name": "ipython",
    "version": 3
   },
   "file_extension": ".py",
   "mimetype": "text/x-python",
   "name": "python",
   "nbconvert_exporter": "python",
   "pygments_lexer": "ipython3",
   "version": "3.9.13"
  }
 },
 "nbformat": 4,
 "nbformat_minor": 4
}
