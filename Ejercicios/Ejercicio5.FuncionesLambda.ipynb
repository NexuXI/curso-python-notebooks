{
 "cells": [
  {
   "cell_type": "markdown",
   "metadata": {},
   "source": [
    "## Ejercicio5. Funciones Lambda"
   ]
  },
  {
   "cell_type": "markdown",
   "metadata": {},
   "source": [
    "A partir del siguiente listado de emails:\n",
    "lista_emails = [\"asdasdas.es\",\"asdas asdsdsa@sda.e\",\"asdasd@asdas@asdsad.es\", \"asdad@a.es\", \"a sgsdfsd@a.esfa.sfasdf\", \"asdas.dasd@as.dsfd.as.es \"]\n",
    "- obtener, los nombres de usuario de aquellos emails que sean validos (valido: 1@, no tiene espacios en blanco, despues de la @ hay 1 punto)\n",
    "- indicar el número de emails validos que hay dentro del listado\n"
   ]
  },
  {
   "cell_type": "code",
   "execution_count": 35,
   "metadata": {},
   "outputs": [
    {
     "name": "stdout",
     "output_type": "stream",
     "text": [
      "Hay 2 emails validos. Listado de emails que cumplen las condiciones: ['asdad@a.es', 'asdas.dasd@as.dsfd.as.es ']\n",
      "\n",
      "\n",
      "Los usuarios de los emails que cumplen las condiciones son: ['asdad', 'asdas.dasd']\n"
     ]
    }
   ],
   "source": [
    "lista_emails = [\"asdasdas.es\",\"asdas asdsdsa@sda.e\",\"asdasd@asdas@asdsad.es\", \"asdad@a.es\", \"a sgsdfsd@a.esfa.sfasdf\", \"asdas.dasd@as.dsfd.as.es \"]\n",
    "\n",
    "emails_1_arroba = list(filter(lambda x: x.strip().count(\"@\")==1, lista_emails))\n",
    "emails_no_space = list(filter(lambda x: x.strip().count(\" \")==0, emails_1_arroba))\n",
    "emails_punto = list(filter(lambda x: x.strip().split(\"@\")[-1].count(\".\")>=1, emails_no_space))\n",
    "\n",
    "print(f'Hay {len(emails_punto)} emails validos. Listado de emails que cumplen las condiciones: {emails_punto}\\n\\n')\n",
    "usuarios = list(map(lambda x: x[0: x.find(\"@\")], emails_punto))\n",
    "                \n",
    "print(f'Los usuarios de los emails que cumplen las condiciones son: {usuarios}')"
   ]
  },
  {
   "cell_type": "code",
   "execution_count": null,
   "metadata": {},
   "outputs": [],
   "source": []
  }
 ],
 "metadata": {
  "kernelspec": {
   "display_name": "Python 3 (ipykernel)",
   "language": "python",
   "name": "python3"
  },
  "language_info": {
   "codemirror_mode": {
    "name": "ipython",
    "version": 3
   },
   "file_extension": ".py",
   "mimetype": "text/x-python",
   "name": "python",
   "nbconvert_exporter": "python",
   "pygments_lexer": "ipython3",
   "version": "3.9.13"
  }
 },
 "nbformat": 4,
 "nbformat_minor": 4
}
