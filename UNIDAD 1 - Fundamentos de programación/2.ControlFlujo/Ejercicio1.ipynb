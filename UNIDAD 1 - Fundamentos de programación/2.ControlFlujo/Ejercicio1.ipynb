{
 "cells": [
  {
   "cell_type": "markdown",
   "id": "5fcabed6-0838-4e20-961e-d96955bd9959",
   "metadata": {},
   "source": [
    "# Ejercicio 1"
   ]
  },
  {
   "cell_type": "markdown",
   "id": "dff63697-346a-421d-a1ad-d9e420cebd23",
   "metadata": {},
   "source": [
    "Pintar menu mientras que la opcion sea diferente de 4.\n",
    "\n",
    "1. Pintar cuadrado --> \"Has seleccionado la opcion 1\"\n",
    "2. Validar email --> \"Has seleccionado la opcion 2\"\n",
    "3. Insertar alumnos --> \"Has seleccionado la opcion 3\"\n",
    "4. Salir --> \"Has seleccionado la opcion 4. Adios!\"\n",
    "\n",
    "Ótra opcion --> opcion incorrecta\n",
    "\n",
    "Seleccione una opcion:"
   ]
  },
  {
   "cell_type": "markdown",
   "id": "e26a8a9f-66e3-4ac5-ba76-c48a9f4e7c2e",
   "metadata": {},
   "source": [
    "### Mi solucion"
   ]
  },
  {
   "cell_type": "code",
   "execution_count": 1,
   "id": "8b0509a8-6c48-4d2b-9622-b4397c9bd951",
   "metadata": {},
   "outputs": [
    {
     "name": "stdout",
     "output_type": "stream",
     "text": [
      "---------------------------------------\n",
      "1. Pintar cuadrado.\n",
      "2. Validar un email.\n",
      "3. Insertar alumnos.\n",
      "4. Salir.\n",
      "---------------------------------------\n"
     ]
    },
    {
     "name": "stdin",
     "output_type": "stream",
     "text": [
      "Seleccione una opcion:  1\n"
     ]
    },
    {
     "name": "stdout",
     "output_type": "stream",
     "text": [
      "Has seleccionado la opcion 1.\n"
     ]
    },
    {
     "name": "stdin",
     "output_type": "stream",
     "text": [
      "Tamaño del cuadrdo:  2\n"
     ]
    },
    {
     "name": "stdout",
     "output_type": "stream",
     "text": [
      "* * \n",
      "* * \n",
      "---------------------------------------\n",
      "1. Pintar cuadrado.\n",
      "2. Validar un email.\n",
      "3. Insertar alumnos.\n",
      "4. Salir.\n",
      "---------------------------------------\n"
     ]
    },
    {
     "name": "stdin",
     "output_type": "stream",
     "text": [
      "Seleccione una opcion:  4\n"
     ]
    },
    {
     "name": "stdout",
     "output_type": "stream",
     "text": [
      "Has seleccionado la opcion 4. Adios!\n",
      "El bucle ha terminado.\n"
     ]
    }
   ],
   "source": [
    "## Comienza el bucle\n",
    "while True:\n",
    "    ## Imprime las opciones\n",
    "    print(\"---------------------------------------\")\n",
    "    print(\"1. Pintar cuadrado.\")\n",
    "    print(\"2. Validar un email.\")\n",
    "    print(\"3. Insertar alumnos.\")\n",
    "    print(\"4. Salir.\")\n",
    "    print(\"---------------------------------------\")\n",
    "    ## Lee la opcion seleccionada\n",
    "    respuesta = float(input(\"Seleccione una opcion: \"))\n",
    "    ## Revisa si la opcion es 1\n",
    "    if(respuesta == 1):\n",
    "        print(\"Has seleccionado la opcion 1.\")\n",
    "    ## Revisa si la opcion es 2\n",
    "    elif(respuesta == 2):\n",
    "        print(\"Has seleccionado la opcion 2.\")\n",
    "    ## Revisa si la opcion es 3\n",
    "    elif(respuesta == 3):\n",
    "        print(\"Has seleccionado la opcion 3.\")\n",
    "    ## Revisa si la opcion es 4\n",
    "    elif(respuesta == 4):\n",
    "        print(\"Has seleccionado la opcion 4. Adios!\")\n",
    "        ## Sale del bucle\n",
    "        break\n",
    "    ## Revisa si la opcion es distinta a las anteriores\n",
    "    else:\n",
    "        print(\"Respuesta incorrecta.\")\n",
    "## Confirma haber salido del bucle\n",
    "print(\"El bucle ha terminado.\")"
   ]
  },
  {
   "cell_type": "markdown",
   "id": "98c70321-befd-4e79-ac67-daa3c77bf507",
   "metadata": {},
   "source": [
    "### Solucion profesor"
   ]
  },
  {
   "cell_type": "code",
   "execution_count": 36,
   "id": "8ddf343b-fcfd-42c4-a590-0a04bf25c76a",
   "metadata": {},
   "outputs": [
    {
     "name": "stdout",
     "output_type": "stream",
     "text": [
      "---------------------------------------\n",
      "1. Pintar cuadrado.\n",
      "2. Validar un email.\n",
      "3. Insertar alumnos.\n",
      "4. Salir.\n",
      "---------------------------------------\n"
     ]
    },
    {
     "name": "stdin",
     "output_type": "stream",
     "text": [
      "Seleccione una opcion:  4\n"
     ]
    },
    {
     "name": "stdout",
     "output_type": "stream",
     "text": [
      "Has seleccionado la opcion 4. Adios!\n"
     ]
    }
   ],
   "source": [
    "## Declaramos opcin\n",
    "opcion = 0\n",
    "## Comienza el bucle, si la opcion es 4 sale\n",
    "while (not opcion == 4):\n",
    "    ## Imprime las opciones\n",
    "    print(\"---------------------------------------\")\n",
    "    print(\"1. Pintar cuadrado.\")\n",
    "    print(\"2. Validar un email.\")\n",
    "    print(\"3. Insertar alumnos.\")\n",
    "    print(\"4. Salir.\")\n",
    "    print(\"---------------------------------------\")\n",
    "    \n",
    "    ## Lee la opcion escrita\n",
    "    opcion = int(input(\"Seleccione una opcion: \"))\n",
    "    \n",
    "    ## Revisa si la opcion es 1\n",
    "    if(opcion ==1):\n",
    "        print(\"Has seleccionado la opcion 1.\")\n",
    "    ## Revisa si la opcion es 2\n",
    "    elif(opcion ==2):\n",
    "        print(\"Has seleccionado la opcion 2.\")\n",
    "    ## Revisa si la opcion es 3\n",
    "    elif(opcion ==3):\n",
    "        print(\"Has seleccionado la opcion 3.\")\n",
    "    ## Revisa si la opcion es 4\n",
    "    elif(opcion ==4):\n",
    "        print(\"Has seleccionado la opcion 4. Adios!\")\n",
    "    ## Revisa si la opcion es distinta a las anteriores\n",
    "    else:\n",
    "        print(\"Respuesta incorrecta.\")\n",
    "    "
   ]
  },
  {
   "cell_type": "code",
   "execution_count": null,
   "id": "2b52cab8-2334-43df-b775-d984932be87a",
   "metadata": {},
   "outputs": [],
   "source": []
  }
 ],
 "metadata": {
  "kernelspec": {
   "display_name": "Python 3 (ipykernel)",
   "language": "python",
   "name": "python3"
  },
  "language_info": {
   "codemirror_mode": {
    "name": "ipython",
    "version": 3
   },
   "file_extension": ".py",
   "mimetype": "text/x-python",
   "name": "python",
   "nbconvert_exporter": "python",
   "pygments_lexer": "ipython3",
   "version": "3.9.13"
  }
 },
 "nbformat": 4,
 "nbformat_minor": 5
}
