{
 "cells": [
  {
   "cell_type": "code",
   "execution_count": 11,
   "id": "25a9f812-fcc1-45fd-ba88-46971179afea",
   "metadata": {},
   "outputs": [
    {
     "name": "stdout",
     "output_type": "stream",
     "text": [
      "{'DNI': 'jose', 'Nombre': 'jose', 'Apellidos': 'jose'}  de la calse  3\n"
     ]
    }
   ],
   "source": [
    " ## Crear  lista Colegio, con lista clases y estas con diccionarios alumnos\n",
    "aula1 = [{\"DNI\": \"ana\", \"Nombre\": \"ana\", \"Apellidos\": \"ana\"}]\n",
    "aula2 = [{\"DNI\": \"pepe\", \"Nombre\": \"pepe\", \"Apellidos\": \"pepe\"}]\n",
    "aula3 = [{\"DNI\": \"jose\", \"Nombre\": \"jose\", \"Apellidos\": \"jose\"}]\n",
    "colegio = [aula1, aula2, aula3]\n",
    "\n",
    "dni = \"jose\"\n",
    "def buscar(colegi, nif):\n",
    "    ## Crear un contador para contar el numero del aula\n",
    "    cont = 0\n",
    "    ## Boleano para derterminar si ha encontrado al alumno\n",
    "    encontrado = False\n",
    "    ## Recorrer las aulas del colegio\n",
    "    for aula in colegi:\n",
    "        ## Sumar uno al contador\n",
    "        cont+=1\n",
    "        ## Recorrer los alumnos de las aulas\n",
    "        for alumno in aula:\n",
    "            ## Comprobar si el DNI coincide\n",
    "            if alumno[\"DNI\"] == nif:\n",
    "                ## Cambia el booleano a True\n",
    "                encontrado = True\n",
    "                ## Guardar alumno y aula en una variable\n",
    "                alumno_y_aula = [alumno, cont]\n",
    "                ## Devuelve la variable con el alumno y el contador\n",
    "                return alumno_y_aula\n",
    "            \n",
    "alumno_aula = buscar(colegio, dni)\n",
    "alumno = alumno_aula[0]\n",
    "aula = alumno_aula[1]\n",
    "print(alumno, \" de la calse \", aula)"
   ]
  },
  {
   "cell_type": "code",
   "execution_count": null,
   "id": "96d9568a-2821-4dc6-bec0-f0d21995910a",
   "metadata": {},
   "outputs": [],
   "source": []
  }
 ],
 "metadata": {
  "kernelspec": {
   "display_name": "Python 3 (ipykernel)",
   "language": "python",
   "name": "python3"
  },
  "language_info": {
   "codemirror_mode": {
    "name": "ipython",
    "version": 3
   },
   "file_extension": ".py",
   "mimetype": "text/x-python",
   "name": "python",
   "nbconvert_exporter": "python",
   "pygments_lexer": "ipython3",
   "version": "3.9.13"
  }
 },
 "nbformat": 4,
 "nbformat_minor": 5
}
