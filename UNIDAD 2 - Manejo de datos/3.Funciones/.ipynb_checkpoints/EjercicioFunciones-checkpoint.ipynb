{
 "cells": [
  {
   "cell_type": "markdown",
   "id": "3135704d-8948-4bf0-ade9-c275be2229bf",
   "metadata": {},
   "source": [
    "# Ejercicio Funciones."
   ]
  },
  {
   "cell_type": "code",
   "execution_count": null,
   "id": "d46a70e8-797f-4c75-a86f-1a309c1b7b33",
   "metadata": {},
   "outputs": [],
   "source": []
  }
 ],
 "metadata": {
  "kernelspec": {
   "display_name": "Python 3 (ipykernel)",
   "language": "python",
   "name": "python3"
  },
  "language_info": {
   "codemirror_mode": {
    "name": "ipython",
    "version": 3
   },
   "file_extension": ".py",
   "mimetype": "text/x-python",
   "name": "python",
   "nbconvert_exporter": "python",
   "pygments_lexer": "ipython3",
   "version": "3.9.13"
  }
 },
 "nbformat": 4,
 "nbformat_minor": 5
}
